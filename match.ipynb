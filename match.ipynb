{
 "cells": [
  {
   "cell_type": "code",
   "execution_count": 1,
   "metadata": {},
   "outputs": [],
   "source": [
    "from utils import *\n",
    "from tools import *"
   ]
  },
  {
   "cell_type": "code",
   "execution_count": 2,
   "metadata": {},
   "outputs": [],
   "source": [
    "ipc = ipc(\"ipc_2019.txt\")\n",
    "ipc_list = ipc.get_ipc_list()\n",
    "ipc_dict = ipc.get_ipc_dict()\n",
    "ipc_tree = ipc.ipc_tree\n",
    "leaf_node = ipc.leaf_node"
   ]
  },
  {
   "cell_type": "code",
   "execution_count": 5,
   "metadata": {},
   "outputs": [
    {
     "name": "stdout",
     "output_type": "stream",
     "text": [
      "[['B44B1/04', 2], ['B65B11/02', 2], ['G09B19/00', 2], ['G09B9/44', 2], ['G06F7/10', 2], ['G06G7/122', 2], ['G06G7/186', 2], ['G10L17/10', 2]]\n"
     ]
    }
   ],
   "source": [
    "query = \"多模态大模型\"\n",
    "model = \"word2vec.model\"\n",
    "\n",
    "print(normal_match(query, ipc))\n",
    "# print(word2vec_similarity_match(query, ipc, model)[: 20])\n",
    "# print(cosine_similarity_match(query, ipc, model)[: 20])\n",
    "# print(match(query, ipc, model, topn=10))\n",
    "\n"
   ]
  }
 ],
 "metadata": {
  "kernelspec": {
   "display_name": "GensimMatch",
   "language": "python",
   "name": "python3"
  },
  "language_info": {
   "codemirror_mode": {
    "name": "ipython",
    "version": 3
   },
   "file_extension": ".py",
   "mimetype": "text/x-python",
   "name": "python",
   "nbconvert_exporter": "python",
   "pygments_lexer": "ipython3",
   "version": "3.8.18"
  }
 },
 "nbformat": 4,
 "nbformat_minor": 2
}
