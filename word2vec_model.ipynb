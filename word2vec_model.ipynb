{
 "cells": [
  {
   "cell_type": "code",
   "execution_count": 1,
   "metadata": {},
   "outputs": [],
   "source": [
    "from gensim.models import Word2Vec\n",
    "from utils import *\n",
    "import jieba\n",
    "import pickle"
   ]
  },
  {
   "cell_type": "code",
   "execution_count": 2,
   "metadata": {},
   "outputs": [
    {
     "name": "stderr",
     "output_type": "stream",
     "text": [
      "Building prefix dict from the default dictionary ...\n",
      "Loading model from cache C:\\Users\\Tianh\\AppData\\Local\\Temp\\jieba.cache\n",
      "Loading model cost 0.300 seconds.\n",
      "Prefix dict has been built successfully.\n"
     ]
    }
   ],
   "source": [
    "ipc = ipc(\"ipc_2019.txt\")\n",
    "\n",
    "sentences = [list(jieba.cut(sentence[1], cut_all=False)) for sentence in ipc.ipc_list]\n",
    "id2ipc = [ipc_id[0] for ipc_id in ipc.ipc_list]\n",
    "\n",
    "with open(\"sentences.pickle\", \"wb\") as f1:\n",
    "    pickle.dump(sentences, f1)\n",
    "with open(\"id2ipc.pickle\", \"wb\") as f2:\n",
    "    pickle.dump(id2ipc, f2)\n",
    "f1.close()\n",
    "f2.close()"
   ]
  },
  {
   "cell_type": "code",
   "execution_count": 12,
   "metadata": {},
   "outputs": [],
   "source": [
    "# model = Word2Vec(sentences=sentences, vector_size=100, epochs=20)\n",
    "model = Word2Vec(min_count=1, epochs=50)\n",
    "model.build_vocab(corpus_iterable=sentences)\n",
    "model.train(corpus_iterable=sentences, total_examples=model.corpus_count, epochs=50)\n",
    "model.save(\"word2vec.model\")"
   ]
  },
  {
   "cell_type": "code",
   "execution_count": 11,
   "metadata": {},
   "outputs": [
    {
     "name": "stdout",
     "output_type": "stream",
     "text": [
      "[ 0.00034561 -0.00136353  0.00360826 -0.00726898 -0.00229584  0.00357519\n",
      " -0.00385514 -0.00767094 -0.00269345 -0.00521419  0.0097631  -0.00309141\n",
      " -0.00727008  0.00675071 -0.00166282  0.00196397  0.0079207   0.00075917\n",
      " -0.00397016  0.00308561 -0.00831769 -0.00118835  0.00196102 -0.00903216\n",
      " -0.00285548  0.00475663  0.0078785   0.00556622 -0.00081006  0.0067482\n",
      "  0.00416913  0.00761529 -0.0043044   0.00541274 -0.00573014  0.00282692\n",
      " -0.00171401  0.00841134 -0.00421421  0.00652992 -0.00493702 -0.00312815\n",
      "  0.00998521  0.00949115  0.00608452 -0.00096614 -0.00284303 -0.00389664\n",
      "  0.0064156   0.00447652 -0.00589033  0.00019143 -0.0050507   0.00094558\n",
      "  0.00060261  0.00904295 -0.00549306  0.0033127   0.00671216 -0.00571027\n",
      "  0.00714153 -0.00885865  0.00583947  0.0059534   0.00571958  0.00576363\n",
      "  0.00418263  0.00573112  0.00732131  0.00760702  0.00046605  0.00769982\n",
      "  0.00200416  0.00808187 -0.00946819 -0.00191843  0.00569722 -0.0057813\n",
      " -0.00991651 -0.0039694  -0.00746617 -0.0059986  -0.0022098  -0.00764325\n",
      "  0.00317386 -0.00072423  0.00687477  0.00450633  0.00803966 -0.00949666\n",
      "  0.00474139 -0.00390418 -0.00181541  0.00465773 -0.00021852  0.00169061\n",
      "  0.00472315  0.00333433 -0.00387086  0.00094676]\n"
     ]
    }
   ],
   "source": []
  }
 ],
 "metadata": {
  "kernelspec": {
   "display_name": "GensimMatch",
   "language": "python",
   "name": "python3"
  },
  "language_info": {
   "codemirror_mode": {
    "name": "ipython",
    "version": 3
   },
   "file_extension": ".py",
   "mimetype": "text/x-python",
   "name": "python",
   "nbconvert_exporter": "python",
   "pygments_lexer": "ipython3",
   "version": "3.8.18"
  }
 },
 "nbformat": 4,
 "nbformat_minor": 2
}
